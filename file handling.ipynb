{
 "cells": [
  {
   "cell_type": "markdown",
   "id": "9276bf62-da9b-45a6-ac36-51d5669f7add",
   "metadata": {},
   "source": [
    "### Ques1: What is the difference between interpreted and compiled languages?\n",
    "**Ans:**  \n",
    "- **Interpreted:** Code is executed line by line by an interpreter (e.g., Python, JavaScript).  \n",
    "- **Compiled:** Code is translated into machine code before execution (e.g., C, C++).\n",
    "\n",
    "---\n",
    "\n",
    "### Ques2: What is exception handling in Python?\n",
    "**Ans:**  \n",
    "A mechanism to handle runtime errors without crashing the program using `try`, `except`, `else`, and `finally`.\n",
    "\n",
    "---\n",
    "\n",
    "### Ques3: What is the purpose of the finally block in exception handling?\n",
    "**Ans:**  \n",
    "Code inside `finally` runs regardless of whether an exception occurred or not (commonly used for cleanup tasks).\n",
    "\n",
    "---\n",
    "\n",
    "### Ques4: What is logging in Python?\n",
    "**Ans:**  \n",
    "Logging is the process of recording messages about program execution for debugging, monitoring, or auditing.\n",
    "\n",
    "---\n",
    "\n",
    "### Ques5: What is the significance of the __del__ method in Python?\n",
    "**Ans:**  \n",
    "`__del__` is a destructor method called when an object is about to be destroyed, used to release resources.\n",
    "\n",
    "---\n",
    "\n",
    "### Ques6: What is the difference between import and from ... import in Python?\n",
    "**Ans:**  \n",
    "- `import module`: You access functions with `module.function()`.  \n",
    "- `from module import function`: You can use `function()` directly.\n",
    "\n",
    "---\n",
    "\n",
    "### Ques7: How can you handle multiple exceptions in Python?\n",
    "**Ans:**  \n",
    "Use multiple `except` blocks or a single `except` block with a tuple of exceptions.\n",
    "\n",
    "---\n",
    "\n",
    "### Ques8: What is the purpose of the with statement when handling files in Python?\n",
    "**Ans:**  \n",
    "It ensures the file is automatically closed after the block of code is executed.\n",
    "\n",
    "---\n",
    "\n",
    "### Ques9: What is the difference between multithreading and multiprocessing?\n",
    "**Ans:**  \n",
    "- **Multithreading:** Multiple threads share the same memory space (good for I/O-bound tasks).  \n",
    "- **Multiprocessing:** Multiple processes run in separate memory spaces (good for CPU-bound tasks).\n",
    "\n",
    "---\n",
    "\n",
    "### Ques10: What are the advantages of using logging in a program?\n",
    "**Ans:**  \n",
    "Provides a permanent record of program execution, useful for debugging, error tracking, and monitoring.\n",
    "\n",
    "---\n",
    "\n",
    "### Ques11: What is memory management in Python?\n",
    "**Ans:**  \n",
    "Python uses automatic memory management with reference counting and garbage collection.\n",
    "\n",
    "---\n",
    "\n",
    "### Ques12: What are the basic steps involved in exception handling in Python?\n",
    "**Ans:**  \n",
    "1. Wrap risky code in `try`.  \n",
    "2. Catch exceptions in `except`.  \n",
    "3. Optionally use `else` if no exception occurs.  \n",
    "4. Use `finally` for cleanup.\n",
    "\n",
    "---\n",
    "\n",
    "### Ques13: Why is memory management important in Python?\n",
    "**Ans:**  \n",
    "It prevents memory leaks and ensures efficient use of system resources.\n",
    "\n",
    "---\n",
    "\n",
    "### Ques14: What is the role of try and except in exception handling?\n",
    "**Ans:**  \n",
    "`try` contains code that may raise exceptions; `except` catches and handles those exceptions.\n",
    "\n",
    "---\n",
    "\n",
    "### Ques15: How does Python's garbage collection system work?\n",
    "**Ans:**  \n",
    "It frees memory by removing objects with zero references, using reference counting and cyclic garbage collection.\n",
    "\n",
    "---\n",
    "\n",
    "### Ques16: What is the purpose of the else block in exception handling?\n",
    "**Ans:**  \n",
    "The `else` block executes only if no exception occurs in the `try` block.\n",
    "\n",
    "---\n",
    "\n",
    "### Ques17: What are the common logging levels in Python?\n",
    "**Ans:**  \n",
    "DEBUG, INFO, WARNING, ERROR, CRITICAL.\n",
    "\n",
    "---\n",
    "\n",
    "### Ques18: What is the difference between os.fork() and multiprocessing in Python?\n",
    "**Ans:**  \n",
    "- `os.fork()`: Creates a new process (Unix only).  \n",
    "- `multiprocessing`: Cross-platform library for parallel processing.\n",
    "\n",
    "---\n",
    "\n",
    "### Ques19: What is the importance of closing a file in Python?\n",
    "**Ans:**  \n",
    "It releases system resources and ensures data is saved properly.\n",
    "\n",
    "---\n",
    "\n",
    "### Ques20: What is the difference between file.read() and file.readline() in Python?\n",
    "**Ans:**  \n",
    "- `read()`: Reads the entire file or a specified number of characters.  \n",
    "- `readline()`: Reads one line at a time.\n",
    "\n",
    "---\n",
    "\n",
    "### Ques21: What is the logging module in Python used for?\n",
    "**Ans:**  \n",
    "It provides a flexible way to log messages for debugging, monitoring, and auditing.\n",
    "\n",
    "---\n",
    "\n",
    "### Ques22: What is the os module in Python used for in file handling?\n",
    "**Ans:**  \n",
    "It provides functions for interacting with the operating system, such as file and directory operations.\n",
    "\n",
    "---\n",
    "\n",
    "### Ques23: What are the challenges associated with memory management in Python?\n",
    "**Ans:**  \n",
    "Circular references, large data structures, and unused objects may still consume memory until garbage collection.\n",
    "\n",
    "---\n",
    "\n",
    "### Ques24: How do you raise an exception manually in Python?\n",
    "**Ans:**  \n",
    "Use the `raise` keyword followed by an exception class.  \n",
    "Example: `raise ValueError(\"Invalid value\")`\n",
    "\n",
    "---\n",
    "\n",
    "### Ques25: Why is it important to use multithreading in certain applications?\n",
    "**Ans:**  \n",
    "It improves performance in I/O-bound programs by allowing concurrent operations.\n"
   ]
  },
  {
   "cell_type": "code",
   "execution_count": 1,
   "id": "3459f9fe-d58c-4089-adbd-f70f23664ed7",
   "metadata": {},
   "outputs": [],
   "source": [
    "#q1:\n",
    "with open(\"output.txt\", \"w\") as f:\n",
    "    f.write(\"Hello, world!\")\n"
   ]
  },
  {
   "cell_type": "code",
   "execution_count": 4,
   "id": "7017c6f0-4d16-43b8-a4c5-c62e3cc52976",
   "metadata": {},
   "outputs": [
    {
     "name": "stdout",
     "output_type": "stream",
     "text": [
      "Hello, this is a test file.\n"
     ]
    }
   ],
   "source": [
    "#q2:\n",
    "with open(\"example.txt\", \"r\") as f:\n",
    "    for line in f:\n",
    "        print(line.strip())\n"
   ]
  },
  {
   "cell_type": "code",
   "execution_count": 5,
   "id": "68124476-c6b7-4f29-963a-6bfd5b956b0b",
   "metadata": {},
   "outputs": [
    {
     "name": "stdout",
     "output_type": "stream",
     "text": [
      "File not found!\n"
     ]
    }
   ],
   "source": [
    "#q3:\n",
    "try:\n",
    "    with open(\"nonexistent.txt\", \"r\") as f:\n",
    "        print(f.read())\n",
    "except FileNotFoundError:\n",
    "    print(\"File not found!\")\n"
   ]
  },
  {
   "cell_type": "code",
   "execution_count": 30,
   "id": "340f6654-610f-49ef-a7eb-bd9328893e55",
   "metadata": {},
   "outputs": [
    {
     "name": "stdout",
     "output_type": "stream",
     "text": [
      "File copied successfully!\n"
     ]
    }
   ],
   "source": [
    "#q4:\n",
    "## ques4: Write a Python program to copy the contents of one file to another\n",
    "\n",
    "# Create a sample file first\n",
    "with open(\"source.txt\", \"w\") as f:\n",
    "    f.write(\"This is a sample text.\\nPython file handling is easy!\")\n",
    "\n",
    "# Now copy contents from source.txt to destination.txt\n",
    "with open(\"source.txt\", \"r\") as src:\n",
    "    with open(\"destination.txt\", \"w\") as dest:\n",
    "        for line in src:\n",
    "            dest.write(line)\n",
    "\n",
    "print(\"File copied successfully!\")\n"
   ]
  },
  {
   "cell_type": "code",
   "execution_count": 7,
   "id": "0450004c-3881-411d-9299-1a98d88b813d",
   "metadata": {},
   "outputs": [
    {
     "name": "stdout",
     "output_type": "stream",
     "text": [
      "You cannot divide by zero!\n"
     ]
    }
   ],
   "source": [
    "#q5:\n",
    "try:\n",
    "    result = 10 / 0\n",
    "except ZeroDivisionError:\n",
    "    print(\"You cannot divide by zero!\")\n"
   ]
  },
  {
   "cell_type": "code",
   "execution_count": 8,
   "id": "4c036d28-c836-4913-a1d9-ca75f02f8328",
   "metadata": {},
   "outputs": [],
   "source": [
    "#q6:\n",
    "import logging\n",
    "\n",
    "logging.basicConfig(filename=\"error.log\", level=logging.ERROR)\n",
    "\n",
    "try:\n",
    "    result = 10 / 0\n",
    "except ZeroDivisionError:\n",
    "    logging.error(\"Division by zero error occurred.\")\n"
   ]
  },
  {
   "cell_type": "code",
   "execution_count": 9,
   "id": "a3d73f18-8dc0-4370-bb52-c703ae59f309",
   "metadata": {},
   "outputs": [],
   "source": [
    "#q7:\n",
    "import logging\n",
    "\n",
    "logging.basicConfig(level=logging.DEBUG)\n",
    "\n",
    "logging.info(\"This is an info message.\")\n",
    "logging.warning(\"This is a warning message.\")\n",
    "logging.error(\"This is an error message.\")\n"
   ]
  },
  {
   "cell_type": "code",
   "execution_count": 10,
   "id": "bc982f8f-d0dd-4be4-93a7-3a75c323180f",
   "metadata": {},
   "outputs": [
    {
     "name": "stdout",
     "output_type": "stream",
     "text": [
      "Error opening file.\n"
     ]
    }
   ],
   "source": [
    "#q8:\n",
    "try:\n",
    "    with open(\"missing.txt\", \"r\") as f:\n",
    "        print(f.read())\n",
    "except IOError:\n",
    "    print(\"Error opening file.\")\n"
   ]
  },
  {
   "cell_type": "code",
   "execution_count": 11,
   "id": "d5daf39e-91c6-46d1-bc2b-923bc341b62a",
   "metadata": {},
   "outputs": [
    {
     "name": "stdout",
     "output_type": "stream",
     "text": [
      "['Hello, this is a test file.']\n"
     ]
    }
   ],
   "source": [
    "#q9:\n",
    "with open(\"example.txt\", \"r\") as f:\n",
    "    lines = f.readlines()\n",
    "\n",
    "print(lines)\n"
   ]
  },
  {
   "cell_type": "code",
   "execution_count": 12,
   "id": "3209beb7-151e-41d2-87b1-46811d592d81",
   "metadata": {},
   "outputs": [],
   "source": [
    "#q10:\n",
    "with open(\"example.txt\", \"a\") as f:\n",
    "    f.write(\"\\nThis is appended text.\")\n"
   ]
  },
  {
   "cell_type": "code",
   "execution_count": 13,
   "id": "0d79ee31-4ebc-46cc-91ae-981810b2cf23",
   "metadata": {},
   "outputs": [
    {
     "name": "stdout",
     "output_type": "stream",
     "text": [
      "Key does not exist in dictionary.\n"
     ]
    }
   ],
   "source": [
    "#q11:\n",
    "data = {\"name\": \"Alice\"}\n",
    "\n",
    "try:\n",
    "    print(data[\"age\"])\n",
    "except KeyError:\n",
    "    print(\"Key does not exist in dictionary.\")\n"
   ]
  },
  {
   "cell_type": "code",
   "execution_count": 14,
   "id": "9a5583ab-c865-4ba9-ae45-c6ae60c548ea",
   "metadata": {},
   "outputs": [
    {
     "name": "stdout",
     "output_type": "stream",
     "text": [
      "Invalid value.\n"
     ]
    }
   ],
   "source": [
    "#q12:\n",
    "try:\n",
    "    num = int(\"abc\")\n",
    "    result = 10 / 0\n",
    "except ValueError:\n",
    "    print(\"Invalid value.\")\n",
    "except ZeroDivisionError:\n",
    "    print(\"Division by zero.\")\n"
   ]
  },
  {
   "cell_type": "code",
   "execution_count": 15,
   "id": "f5a02240-b69e-4ec4-a94e-5244e125e224",
   "metadata": {},
   "outputs": [
    {
     "name": "stdout",
     "output_type": "stream",
     "text": [
      "Hello, this is a test file.\n",
      "This is appended text.\n"
     ]
    }
   ],
   "source": [
    "#q13:\n",
    "import os\n",
    "\n",
    "if os.path.exists(\"example.txt\"):\n",
    "    with open(\"example.txt\", \"r\") as f:\n",
    "        print(f.read())\n",
    "else:\n",
    "    print(\"File does not exist.\")\n"
   ]
  },
  {
   "cell_type": "code",
   "execution_count": 16,
   "id": "331cdbb4-493b-42d9-81d0-880ea300f5a8",
   "metadata": {},
   "outputs": [],
   "source": [
    "#q14:\n",
    "import logging\n",
    "\n",
    "logging.basicConfig(filename=\"app.log\", level=logging.DEBUG)\n",
    "logging.info(\"Program started successfully.\")\n",
    "logging.error(\"An error occurred.\")\n"
   ]
  },
  {
   "cell_type": "code",
   "execution_count": 17,
   "id": "5f7474a6-902a-45be-88dc-1e3098209a3c",
   "metadata": {},
   "outputs": [
    {
     "name": "stdout",
     "output_type": "stream",
     "text": [
      "Hello, this is a test file.\n",
      "This is appended text.\n"
     ]
    }
   ],
   "source": [
    "#q15:\n",
    "with open(\"example.txt\", \"r\") as f:\n",
    "    content = f.read()\n",
    "    if content:\n",
    "        print(content)\n",
    "    else:\n",
    "        print(\"File is empty.\")\n"
   ]
  },
  {
   "cell_type": "code",
   "execution_count": 31,
   "id": "90cce75d-873c-4bf9-90aa-fa8c426f730c",
   "metadata": {},
   "outputs": [
    {
     "name": "stdout",
     "output_type": "stream",
     "text": [
      "Collecting memory_profiler\n",
      "  Downloading memory_profiler-0.61.0-py3-none-any.whl.metadata (20 kB)\n",
      "Requirement already satisfied: psutil in c:\\users\\deepak gupta\\anaconda3\\lib\\site-packages (from memory_profiler) (5.9.0)\n",
      "Downloading memory_profiler-0.61.0-py3-none-any.whl (31 kB)\n",
      "Installing collected packages: memory_profiler\n",
      "Successfully installed memory_profiler-0.61.0\n"
     ]
    }
   ],
   "source": [
    "#q16:\n",
    "!pip install memory_profiler"
   ]
  },
  {
   "cell_type": "code",
   "execution_count": 32,
   "id": "e89cd5a9-4ebc-4fc4-acae-e0f082d94d2a",
   "metadata": {},
   "outputs": [
    {
     "name": "stdout",
     "output_type": "stream",
     "text": [
      "Result: 333332833333500000\n",
      "Execution Time: 0.2770 seconds\n",
      "Memory Used: 3.7422 MB\n"
     ]
    }
   ],
   "source": [
    "from memory_profiler import memory_usage\n",
    "import time\n",
    "\n",
    "def my_function():\n",
    "    # Example computation\n",
    "    nums = [i**2 for i in range(1000000)]\n",
    "    return sum(nums)\n",
    "\n",
    "# Measure execution time\n",
    "start_time = time.time()\n",
    "start_mem = memory_usage()[0]\n",
    "\n",
    "result = my_function()\n",
    "\n",
    "end_mem = memory_usage()[0]\n",
    "end_time = time.time()\n",
    "\n",
    "print(f\"Result: {result}\")\n",
    "print(f\"Execution Time: {end_time - start_time:.4f} seconds\")\n",
    "print(f\"Memory Used: {end_mem - start_mem:.4f} MB\")"
   ]
  },
  {
   "cell_type": "code",
   "execution_count": 27,
   "id": "5516637d-dcdc-479c-9041-fa5e1fbaf3e3",
   "metadata": {},
   "outputs": [],
   "source": [
    "#q17:\n",
    "numbers = [1, 2, 3, 4, 5]\n",
    "\n",
    "with open(\"numbers.txt\", \"w\") as f:\n",
    "    for num in numbers:\n",
    "        f.write(f\"{num}\\n\")\n"
   ]
  },
  {
   "cell_type": "code",
   "execution_count": 20,
   "id": "a85bd276-4850-4bfd-bb75-e69cd6507e14",
   "metadata": {},
   "outputs": [],
   "source": [
    "#18:\n",
    "import logging\n",
    "from logging.handlers import RotatingFileHandler\n",
    "\n",
    "handler = RotatingFileHandler(\"rotating.log\", maxBytes=1_000_000, backupCount=3)\n",
    "logging.basicConfig(handlers=[handler], level=logging.INFO)\n",
    "\n",
    "logging.info(\"This is a log message.\")\n"
   ]
  },
  {
   "cell_type": "code",
   "execution_count": 21,
   "id": "e0b935c6-e2c5-4404-8fa5-a6eddfe4bc95",
   "metadata": {},
   "outputs": [
    {
     "name": "stdout",
     "output_type": "stream",
     "text": [
      "KeyError occurred.\n"
     ]
    }
   ],
   "source": [
    "#q19:\n",
    "data = {\"name\": \"Alice\"}\n",
    "my_list = [1, 2, 3]\n",
    "\n",
    "try:\n",
    "    print(data[\"age\"])\n",
    "    print(my_list[5])\n",
    "except KeyError:\n",
    "    print(\"KeyError occurred.\")\n",
    "except IndexError:\n",
    "    print(\"IndexError occurred.\")\n"
   ]
  },
  {
   "cell_type": "code",
   "execution_count": 22,
   "id": "840b42be-5d37-45d0-bb7c-44d41fc98736",
   "metadata": {},
   "outputs": [
    {
     "name": "stdout",
     "output_type": "stream",
     "text": [
      "Hello, this is a test file.\n",
      "This is appended text.\n"
     ]
    }
   ],
   "source": [
    "#q20:\n",
    "with open(\"example.txt\", \"r\") as f:\n",
    "    print(f.read())\n"
   ]
  },
  {
   "cell_type": "code",
   "execution_count": 23,
   "id": "684b1b10-5398-4f39-9cb9-6ecd5cdecde9",
   "metadata": {},
   "outputs": [
    {
     "name": "stdout",
     "output_type": "stream",
     "text": [
      "The word 'Python' occurs 0 times.\n"
     ]
    }
   ],
   "source": [
    "#q21:\n",
    "word_to_count = \"Python\"\n",
    "\n",
    "with open(\"example.txt\", \"r\") as f:\n",
    "    content = f.read()\n",
    "\n",
    "count = content.count(word_to_count)\n",
    "print(f\"The word '{word_to_count}' occurs {count} times.\")\n"
   ]
  },
  {
   "cell_type": "code",
   "execution_count": 24,
   "id": "c857f3df-8e70-48a7-af07-c01efc130040",
   "metadata": {},
   "outputs": [
    {
     "name": "stdout",
     "output_type": "stream",
     "text": [
      "Hello, this is a test file.\n",
      "This is appended text.\n"
     ]
    }
   ],
   "source": [
    "#q22:\n",
    "import os\n",
    "\n",
    "if os.path.getsize(\"example.txt\") == 0:\n",
    "    print(\"File is empty.\")\n",
    "else:\n",
    "    with open(\"example.txt\", \"r\") as f:\n",
    "        print(f.read())\n"
   ]
  },
  {
   "cell_type": "code",
   "execution_count": 25,
   "id": "921f5a7e-e2a0-4c43-9c02-c0e023d231c6",
   "metadata": {},
   "outputs": [],
   "source": [
    "#q23:\n",
    "import logging\n",
    "\n",
    "logging.basicConfig(filename=\"file_error.log\", level=logging.ERROR)\n",
    "\n",
    "try:\n",
    "    with open(\"missing.txt\", \"r\") as f:\n",
    "        print(f.read())\n",
    "except Exception as e:\n",
    "    logging.error(f\"Error occurred: {e}\")\n"
   ]
  },
  {
   "cell_type": "code",
   "execution_count": null,
   "id": "05fdbafa-a826-40f2-bf69-2ec75c304e11",
   "metadata": {},
   "outputs": [],
   "source": []
  }
 ],
 "metadata": {
  "kernelspec": {
   "display_name": "Python 3 (ipykernel)",
   "language": "python",
   "name": "python3"
  },
  "language_info": {
   "codemirror_mode": {
    "name": "ipython",
    "version": 3
   },
   "file_extension": ".py",
   "mimetype": "text/x-python",
   "name": "python",
   "nbconvert_exporter": "python",
   "pygments_lexer": "ipython3",
   "version": "3.13.5"
  }
 },
 "nbformat": 4,
 "nbformat_minor": 5
}
